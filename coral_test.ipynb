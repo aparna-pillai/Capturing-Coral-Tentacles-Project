{
 "cells": [
  {
   "attachments": {},
   "cell_type": "markdown",
   "metadata": {},
   "source": [
    "The steps below were used for Roboflow installation but are no longer needed."
   ]
  },
  {
   "cell_type": "code",
   "execution_count": null,
   "metadata": {},
   "outputs": [],
   "source": [
    "# %cd yolov5\n",
    "# %pip install roboflow\n",
    "\n",
    "# from roboflow import Roboflow\n",
    "# rf = Roboflow(api_key=\"buPitnxBypsxxPYEfGzD\")\n",
    "# project = rf.workspace(\"capstone-capturing-coral-tentacles\").project(\"coral-tentacle-detection\")\n",
    "# dataset = project.version(1).download(\"yolov5\")"
   ]
  },
  {
   "cell_type": "code",
   "execution_count": 5,
   "metadata": {},
   "outputs": [
    {
     "name": "stderr",
     "output_type": "stream",
     "text": [
      "Traceback (most recent call last):\n",
      "  File \"c:\\Capstone CS (Grade 12)\\Capturing-Coral-Tentacles-Project\\yolov5\\detect.py\", line 37, in <module>\n",
      "    import torch\n",
      "ModuleNotFoundError: No module named 'torch'\n"
     ]
    }
   ],
   "source": [
    "# Doesn't work. Run from terminal\n",
    "!python yolov5/detect.py --weights best.pt --conf 0.3 --hide-label --data Coral-Tentacle-Detection-1/data.yaml --img 640  --source Coral-Tentacle-Detection-1/train/images"
   ]
  },
  {
   "cell_type": "code",
   "execution_count": 10,
   "metadata": {},
   "outputs": [],
   "source": [
    "# Doesn't work. Why?\n",
    "import glob\n",
    "from IPython.display import Image, display\n",
    "\n",
    "for image in glob.glob('/yolov5/runs/detect/exp/*.jpg'):\n",
    "    display(Image(filename=image, width=500))\n",
    "    print(\"\\n\")"
   ]
  }
 ],
 "metadata": {
  "kernelspec": {
   "display_name": "Python 3",
   "language": "python",
   "name": "python3"
  },
  "language_info": {
   "codemirror_mode": {
    "name": "ipython",
    "version": 3
   },
   "file_extension": ".py",
   "mimetype": "text/x-python",
   "name": "python",
   "nbconvert_exporter": "python",
   "pygments_lexer": "ipython3",
   "version": "3.11.0"
  },
  "orig_nbformat": 4,
  "vscode": {
   "interpreter": {
    "hash": "7f1d94e641529b820a55a9cc7a260c156d1dd4842b05f17bb36f393bd4228260"
   }
  }
 },
 "nbformat": 4,
 "nbformat_minor": 2
}
